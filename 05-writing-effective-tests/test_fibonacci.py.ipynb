{
 "cells": [
  {
   "cell_type": "code",
   "execution_count": 1,
   "metadata": {},
   "outputs": [],
   "source": [
    "import numpy as np\n",
    "\n",
    "\n",
    "def fib(n):\n",
    "    fib = [0, 1]\n",
    "    while len(fib) < n+1:\n",
    "        fib.append(fib[-2] + fib[-1])\n",
    "    return fib[1:]\n",
    "\n",
    "\n",
    "def fib_numpy(n):\n",
    "    fib = np.zeros(n+1)\n",
    "    fib[1] = 1\n",
    "    for i in range(2, n+1):\n",
    "        fib[i] = fib[i-2] + fib[i-1]\n",
    "    return fib[1:]\n",
    "\n",
    "\n",
    "def fib_recursive(n):\n",
    "    if n == 1 or n == 2:\n",
    "        return 1\n",
    "    return fib_recursive(n-1) + fib_recursive(n-2)\n",
    "\n",
    "\n",
    "def fib_3(n):\n",
    "    return [fib_recursive(i) for i in range(1, n)]\n",
    "\n"
   ]
  },
  {
   "cell_type": "code",
   "execution_count": 2,
   "metadata": {},
   "outputs": [],
   "source": [
    "import fibonacci as f"
   ]
  },
  {
   "cell_type": "code",
   "execution_count": null,
   "metadata": {},
   "outputs": [],
   "source": []
  }
 ],
 "metadata": {
  "kernelspec": {
   "display_name": "Python 3",
   "language": "python",
   "name": "python3"
  },
  "language_info": {
   "codemirror_mode": {
    "name": "ipython",
    "version": 3
   },
   "file_extension": ".py",
   "mimetype": "text/x-python",
   "name": "python",
   "nbconvert_exporter": "python",
   "pygments_lexer": "ipython3",
   "version": "3.6.6"
  }
 },
 "nbformat": 4,
 "nbformat_minor": 2
}
